{
 "cells": [
  {
   "cell_type": "code",
   "execution_count": 2,
   "id": "faa051fa",
   "metadata": {},
   "outputs": [
    {
     "data": {
      "text/html": [
       "<div>\n",
       "<style scoped>\n",
       "    .dataframe tbody tr th:only-of-type {\n",
       "        vertical-align: middle;\n",
       "    }\n",
       "\n",
       "    .dataframe tbody tr th {\n",
       "        vertical-align: top;\n",
       "    }\n",
       "\n",
       "    .dataframe thead th {\n",
       "        text-align: right;\n",
       "    }\n",
       "</style>\n",
       "<table border=\"1\" class=\"dataframe\">\n",
       "  <thead>\n",
       "    <tr style=\"text-align: right;\">\n",
       "      <th></th>\n",
       "      <th>summary</th>\n",
       "      <th>city</th>\n",
       "      <th>state</th>\n",
       "      <th>date_time</th>\n",
       "      <th>shape</th>\n",
       "      <th>duration</th>\n",
       "      <th>stats</th>\n",
       "      <th>report_link</th>\n",
       "      <th>text</th>\n",
       "      <th>posted</th>\n",
       "      <th>city_latitude</th>\n",
       "      <th>city_longitude</th>\n",
       "    </tr>\n",
       "  </thead>\n",
       "  <tbody>\n",
       "    <tr>\n",
       "      <th>0</th>\n",
       "      <td>My wife was driving southeast on a fairly popu...</td>\n",
       "      <td>Chester</td>\n",
       "      <td>VA</td>\n",
       "      <td>2019-12-12T18:43:00</td>\n",
       "      <td>light</td>\n",
       "      <td>5 seconds</td>\n",
       "      <td>Occurred : 12/12/2019 18:43  (Entered as : 12/...</td>\n",
       "      <td>http://www.nuforc.org/webreports/151/S151739.html</td>\n",
       "      <td>My wife was driving southeast on a fairly popu...</td>\n",
       "      <td>2019-12-22T00:00:00</td>\n",
       "      <td>37.343152</td>\n",
       "      <td>-77.408582</td>\n",
       "    </tr>\n",
       "    <tr>\n",
       "      <th>1</th>\n",
       "      <td>I think that I may caught a UFO on the NBC Nig...</td>\n",
       "      <td>Rocky Hill</td>\n",
       "      <td>CT</td>\n",
       "      <td>2019-03-22T18:30:00</td>\n",
       "      <td>circle</td>\n",
       "      <td>3-5 seconds</td>\n",
       "      <td>Occurred : 3/22/2019 18:30  (Entered as : 03/2...</td>\n",
       "      <td>http://www.nuforc.org/webreports/145/S145297.html</td>\n",
       "      <td>I think that I may caught a UFO on the NBC Nig...</td>\n",
       "      <td>2019-03-29T00:00:00</td>\n",
       "      <td>41.664800</td>\n",
       "      <td>-72.639300</td>\n",
       "    </tr>\n",
       "    <tr>\n",
       "      <th>2</th>\n",
       "      <td>I woke up late in the afternoon 3:30-4pm. I we...</td>\n",
       "      <td>NaN</td>\n",
       "      <td>NaN</td>\n",
       "      <td>NaN</td>\n",
       "      <td>NaN</td>\n",
       "      <td>NaN</td>\n",
       "      <td>Occurred : 4/1/2019 15:45  (Entered as : April...</td>\n",
       "      <td>http://www.nuforc.org/webreports/145/S145556.html</td>\n",
       "      <td>I woke up late in the afternoon 3:30-4pm.  I w...</td>\n",
       "      <td>NaN</td>\n",
       "      <td>NaN</td>\n",
       "      <td>NaN</td>\n",
       "    </tr>\n",
       "    <tr>\n",
       "      <th>3</th>\n",
       "      <td>I was driving towards the intersection of fall...</td>\n",
       "      <td>Ottawa</td>\n",
       "      <td>ON</td>\n",
       "      <td>2019-04-17T02:00:00</td>\n",
       "      <td>teardrop</td>\n",
       "      <td>10 seconds</td>\n",
       "      <td>Occurred : 4/17/2019 02:00  (Entered as : 04-1...</td>\n",
       "      <td>http://www.nuforc.org/webreports/145/S145697.html</td>\n",
       "      <td>I was driving towards the intersection of fall...</td>\n",
       "      <td>2019-04-18T00:00:00</td>\n",
       "      <td>45.381383</td>\n",
       "      <td>-75.708501</td>\n",
       "    </tr>\n",
       "    <tr>\n",
       "      <th>4</th>\n",
       "      <td>In Peoria Arizona, I saw a cigar shaped craft ...</td>\n",
       "      <td>Peoria</td>\n",
       "      <td>NY</td>\n",
       "      <td>2009-03-15T18:00:00</td>\n",
       "      <td>cigar</td>\n",
       "      <td>2 minutes</td>\n",
       "      <td>Occurred : 3/15/2009 18:00  (Entered as : 03/1...</td>\n",
       "      <td>http://www.nuforc.org/webreports/145/S145723.html</td>\n",
       "      <td>In Peoria, Arizona, I saw a cigar shaped craft...</td>\n",
       "      <td>2019-04-18T00:00:00</td>\n",
       "      <td>NaN</td>\n",
       "      <td>NaN</td>\n",
       "    </tr>\n",
       "  </tbody>\n",
       "</table>\n",
       "</div>"
      ],
      "text/plain": [
       "                                             summary        city state  \\\n",
       "0  My wife was driving southeast on a fairly popu...     Chester    VA   \n",
       "1  I think that I may caught a UFO on the NBC Nig...  Rocky Hill    CT   \n",
       "2  I woke up late in the afternoon 3:30-4pm. I we...         NaN   NaN   \n",
       "3  I was driving towards the intersection of fall...      Ottawa    ON   \n",
       "4  In Peoria Arizona, I saw a cigar shaped craft ...      Peoria    NY   \n",
       "\n",
       "             date_time     shape     duration  \\\n",
       "0  2019-12-12T18:43:00     light    5 seconds   \n",
       "1  2019-03-22T18:30:00    circle  3-5 seconds   \n",
       "2                  NaN       NaN          NaN   \n",
       "3  2019-04-17T02:00:00  teardrop   10 seconds   \n",
       "4  2009-03-15T18:00:00     cigar    2 minutes   \n",
       "\n",
       "                                               stats  \\\n",
       "0  Occurred : 12/12/2019 18:43  (Entered as : 12/...   \n",
       "1  Occurred : 3/22/2019 18:30  (Entered as : 03/2...   \n",
       "2  Occurred : 4/1/2019 15:45  (Entered as : April...   \n",
       "3  Occurred : 4/17/2019 02:00  (Entered as : 04-1...   \n",
       "4  Occurred : 3/15/2009 18:00  (Entered as : 03/1...   \n",
       "\n",
       "                                         report_link  \\\n",
       "0  http://www.nuforc.org/webreports/151/S151739.html   \n",
       "1  http://www.nuforc.org/webreports/145/S145297.html   \n",
       "2  http://www.nuforc.org/webreports/145/S145556.html   \n",
       "3  http://www.nuforc.org/webreports/145/S145697.html   \n",
       "4  http://www.nuforc.org/webreports/145/S145723.html   \n",
       "\n",
       "                                                text               posted  \\\n",
       "0  My wife was driving southeast on a fairly popu...  2019-12-22T00:00:00   \n",
       "1  I think that I may caught a UFO on the NBC Nig...  2019-03-29T00:00:00   \n",
       "2  I woke up late in the afternoon 3:30-4pm.  I w...                  NaN   \n",
       "3  I was driving towards the intersection of fall...  2019-04-18T00:00:00   \n",
       "4  In Peoria, Arizona, I saw a cigar shaped craft...  2019-04-18T00:00:00   \n",
       "\n",
       "   city_latitude  city_longitude  \n",
       "0      37.343152      -77.408582  \n",
       "1      41.664800      -72.639300  \n",
       "2            NaN             NaN  \n",
       "3      45.381383      -75.708501  \n",
       "4            NaN             NaN  "
      ]
     },
     "execution_count": 2,
     "metadata": {},
     "output_type": "execute_result"
    }
   ],
   "source": [
    "import pandas as pd\n",
    "import numpy as np\n",
    "import matplotlib.pyplot as plt\n",
    "\n",
    "ufo = pd.read_csv('uforaw.csv')\n",
    "#display raw data\n",
    "ufo.head(5)"
   ]
  },
  {
   "cell_type": "code",
   "execution_count": 3,
   "id": "1371c92e",
   "metadata": {},
   "outputs": [
    {
     "data": {
      "text/plain": [
       "(88125, 12)"
      ]
     },
     "execution_count": 3,
     "metadata": {},
     "output_type": "execute_result"
    }
   ],
   "source": [
    "#EDA, see how many values and columns\n",
    "ufo.shape"
   ]
  },
  {
   "cell_type": "code",
   "execution_count": 4,
   "id": "c7ccf6ae",
   "metadata": {},
   "outputs": [
    {
     "data": {
      "text/plain": [
       "summary              30\n",
       "city                234\n",
       "state              5235\n",
       "date_time          1187\n",
       "shape              2498\n",
       "duration           3171\n",
       "stats                37\n",
       "report_link           0\n",
       "text                 55\n",
       "posted             1187\n",
       "city_latitude     16112\n",
       "city_longitude    16112\n",
       "dtype: int64"
      ]
     },
     "execution_count": 4,
     "metadata": {},
     "output_type": "execute_result"
    }
   ],
   "source": [
    "#EDA, check null values\n",
    "ufo.isnull().sum()"
   ]
  },
  {
   "cell_type": "code",
   "execution_count": 5,
   "id": "584d6816",
   "metadata": {},
   "outputs": [
    {
     "name": "stdout",
     "output_type": "stream",
     "text": [
      "<class 'pandas.core.frame.DataFrame'>\n",
      "RangeIndex: 88125 entries, 0 to 88124\n",
      "Data columns (total 8 columns):\n",
      " #   Column          Non-Null Count  Dtype  \n",
      "---  ------          --------------  -----  \n",
      " 0   city            87891 non-null  object \n",
      " 1   state           82890 non-null  object \n",
      " 2   date_time       86938 non-null  object \n",
      " 3   shape           85627 non-null  object \n",
      " 4   duration        84954 non-null  object \n",
      " 5   text            88070 non-null  object \n",
      " 6   city_latitude   72013 non-null  float64\n",
      " 7   city_longitude  72013 non-null  float64\n",
      "dtypes: float64(2), object(6)\n",
      "memory usage: 5.4+ MB\n"
     ]
    }
   ],
   "source": [
    "new_ufo = ufo[['city','state','date_time','shape','duration','text','city_latitude','city_longitude']]\n",
    "new_ufo.info()\n",
    "#drop unnecessary columns\n",
    "#EDA, see type. we saw there is no defined type"
   ]
  },
  {
   "cell_type": "code",
   "execution_count": 6,
   "id": "cf0810bc",
   "metadata": {},
   "outputs": [
    {
     "name": "stdout",
     "output_type": "stream",
     "text": [
      "<class 'pandas.core.frame.DataFrame'>\n",
      "Int64Index: 82890 entries, 0 to 88124\n",
      "Data columns (total 8 columns):\n",
      " #   Column          Non-Null Count  Dtype         \n",
      "---  ------          --------------  -----         \n",
      " 0   city            82771 non-null  object        \n",
      " 1   state           82890 non-null  object        \n",
      " 2   date_time       81831 non-null  datetime64[ns]\n",
      " 3   shape           82890 non-null  object        \n",
      " 4   duration        80046 non-null  object        \n",
      " 5   text            82838 non-null  object        \n",
      " 6   city_latitude   72013 non-null  float64       \n",
      " 7   city_longitude  72013 non-null  float64       \n",
      "dtypes: datetime64[ns](1), float64(2), object(5)\n",
      "memory usage: 5.7+ MB\n"
     ]
    }
   ],
   "source": [
    "#drop rows with non state values\n",
    "new_ufo.dropna(subset=['state'])\n",
    "new_ufo = new_ufo[new_ufo['state'].str.len() == 2]\n",
    "\n",
    "#change date_time\n",
    "new_ufo.dropna(subset=['date_time'])\n",
    "new_ufo['date_time'] = new_ufo['date_time'].str.replace('T',' ')\n",
    "new_ufo['date_time'] = pd.to_datetime(new_ufo['date_time'])\n",
    "\n",
    "new_ufo.dropna(subset=['date_time'])\n",
    "#replace null shape as a new category\n",
    "new_ufo['shape'] = new_ufo['shape'].fillna('Missing')\n",
    "\n",
    "#see data info\n",
    "new_ufo.info()"
   ]
  },
  {
   "cell_type": "code",
   "execution_count": 7,
   "id": "1e161b3c",
   "metadata": {},
   "outputs": [
    {
     "data": {
      "text/plain": [
       "city                119\n",
       "state                 0\n",
       "date_time          1059\n",
       "shape                 0\n",
       "duration           2844\n",
       "text                 52\n",
       "city_latitude     10877\n",
       "city_longitude    10877\n",
       "dtype: int64"
      ]
     },
     "execution_count": 7,
     "metadata": {},
     "output_type": "execute_result"
    }
   ],
   "source": [
    "#check how many values are missing now\n",
    "new_ufo.isnull().sum()"
   ]
  },
  {
   "cell_type": "code",
   "execution_count": 8,
   "id": "b3ad691a",
   "metadata": {},
   "outputs": [
    {
     "data": {
      "text/html": [
       "<div>\n",
       "<style scoped>\n",
       "    .dataframe tbody tr th:only-of-type {\n",
       "        vertical-align: middle;\n",
       "    }\n",
       "\n",
       "    .dataframe tbody tr th {\n",
       "        vertical-align: top;\n",
       "    }\n",
       "\n",
       "    .dataframe thead th {\n",
       "        text-align: right;\n",
       "    }\n",
       "</style>\n",
       "<table border=\"1\" class=\"dataframe\">\n",
       "  <thead>\n",
       "    <tr style=\"text-align: right;\">\n",
       "      <th></th>\n",
       "      <th>city</th>\n",
       "      <th>state</th>\n",
       "      <th>date_time</th>\n",
       "      <th>shape</th>\n",
       "      <th>duration</th>\n",
       "      <th>text</th>\n",
       "      <th>city_latitude</th>\n",
       "      <th>city_longitude</th>\n",
       "    </tr>\n",
       "  </thead>\n",
       "  <tbody>\n",
       "    <tr>\n",
       "      <th>0</th>\n",
       "      <td>Chester</td>\n",
       "      <td>VA</td>\n",
       "      <td>2019-12-12 18:43:00</td>\n",
       "      <td>light</td>\n",
       "      <td>5 seconds</td>\n",
       "      <td>My wife was driving southeast on a fairly popu...</td>\n",
       "      <td>37.343152</td>\n",
       "      <td>-77.408582</td>\n",
       "    </tr>\n",
       "    <tr>\n",
       "      <th>1</th>\n",
       "      <td>Rocky Hill</td>\n",
       "      <td>CT</td>\n",
       "      <td>2019-03-22 18:30:00</td>\n",
       "      <td>circle</td>\n",
       "      <td>3-5 seconds</td>\n",
       "      <td>I think that I may caught a UFO on the NBC Nig...</td>\n",
       "      <td>41.664800</td>\n",
       "      <td>-72.639300</td>\n",
       "    </tr>\n",
       "    <tr>\n",
       "      <th>3</th>\n",
       "      <td>Ottawa</td>\n",
       "      <td>ON</td>\n",
       "      <td>2019-04-17 02:00:00</td>\n",
       "      <td>teardrop</td>\n",
       "      <td>10 seconds</td>\n",
       "      <td>I was driving towards the intersection of fall...</td>\n",
       "      <td>45.381383</td>\n",
       "      <td>-75.708501</td>\n",
       "    </tr>\n",
       "    <tr>\n",
       "      <th>4</th>\n",
       "      <td>Peoria</td>\n",
       "      <td>NY</td>\n",
       "      <td>2009-03-15 18:00:00</td>\n",
       "      <td>cigar</td>\n",
       "      <td>2 minutes</td>\n",
       "      <td>In Peoria, Arizona, I saw a cigar shaped craft...</td>\n",
       "      <td>NaN</td>\n",
       "      <td>NaN</td>\n",
       "    </tr>\n",
       "    <tr>\n",
       "      <th>5</th>\n",
       "      <td>Kirbyville</td>\n",
       "      <td>TX</td>\n",
       "      <td>2019-04-02 20:25:00</td>\n",
       "      <td>disk</td>\n",
       "      <td>15 minutes</td>\n",
       "      <td>The object has flashing lights that are green,...</td>\n",
       "      <td>30.677200</td>\n",
       "      <td>-94.005200</td>\n",
       "    </tr>\n",
       "  </tbody>\n",
       "</table>\n",
       "</div>"
      ],
      "text/plain": [
       "         city state           date_time     shape     duration  \\\n",
       "0     Chester    VA 2019-12-12 18:43:00     light    5 seconds   \n",
       "1  Rocky Hill    CT 2019-03-22 18:30:00    circle  3-5 seconds   \n",
       "3      Ottawa    ON 2019-04-17 02:00:00  teardrop   10 seconds   \n",
       "4      Peoria    NY 2009-03-15 18:00:00     cigar    2 minutes   \n",
       "5  Kirbyville    TX 2019-04-02 20:25:00      disk   15 minutes   \n",
       "\n",
       "                                                text  city_latitude  \\\n",
       "0  My wife was driving southeast on a fairly popu...      37.343152   \n",
       "1  I think that I may caught a UFO on the NBC Nig...      41.664800   \n",
       "3  I was driving towards the intersection of fall...      45.381383   \n",
       "4  In Peoria, Arizona, I saw a cigar shaped craft...            NaN   \n",
       "5  The object has flashing lights that are green,...      30.677200   \n",
       "\n",
       "   city_longitude  \n",
       "0      -77.408582  \n",
       "1      -72.639300  \n",
       "3      -75.708501  \n",
       "4             NaN  \n",
       "5      -94.005200  "
      ]
     },
     "execution_count": 8,
     "metadata": {},
     "output_type": "execute_result"
    }
   ],
   "source": [
    "new_ufo.head(5)"
   ]
  },
  {
   "cell_type": "code",
   "execution_count": 9,
   "id": "97f7bb28",
   "metadata": {
    "scrolled": true
   },
   "outputs": [
    {
     "data": {
      "text/plain": [
       "<AxesSubplot:title={'center':'MOST SIGHTINGS BY STATE'}, xlabel='state', ylabel='count'>"
      ]
     },
     "execution_count": 9,
     "metadata": {},
     "output_type": "execute_result"
    },
    {
     "data": {
      "image/png": "[encoded data removed]",
      "text/plain": [
       "<Figure size 1152x648 with 1 Axes>"
      ]
     },
     "metadata": {
      "needs_background": "light"
     },
     "output_type": "display_data"
    }
   ],
   "source": [
    "import seaborn as sn\n",
    "\n",
    "#most state\n",
    "plt.figure(figsize=(16,9))\n",
    "plt.title('MOST SIGHTINGS BY STATE')\n",
    "sn.countplot(data = new_ufo, x = 'state', order = new_ufo['state'].value_counts().index)"
   ]
  },
  {
   "cell_type": "code",
   "execution_count": 10,
   "id": "623af905",
   "metadata": {},
   "outputs": [
    {
     "data": {
      "text/plain": [
       "<AxesSubplot:title={'center':'MOST SIGHTINGS BY Shape'}, xlabel='shape', ylabel='count'>"
      ]
     },
     "execution_count": 10,
     "metadata": {},
     "output_type": "execute_result"
    },
    {
     "data": {
      "image/png": "[encoded data removed]",
      "text/plain": [
       "<Figure size 1152x648 with 1 Axes>"
      ]
     },
     "metadata": {
      "needs_background": "light"
     },
     "output_type": "display_data"
    }
   ],
   "source": [
    "#by shapes\n",
    "plt.figure(figsize=(16,9))\n",
    "plt.title('MOST SIGHTINGS BY Shape')\n",
    "sn.countplot(data = new_ufo, x = 'shape', order = new_ufo['shape'].value_counts().index)"
   ]
  },
  {
   "cell_type": "code",
   "execution_count": 16,
   "id": "cdfe9d25",
   "metadata": {},
   "outputs": [
    {
     "name": "stdout",
     "output_type": "stream",
     "text": [
      "<class 'pandas.core.frame.DataFrame'>\n",
      "Int64Index: 82890 entries, 0 to 88124\n",
      "Data columns (total 8 columns):\n",
      " #   Column          Non-Null Count  Dtype  \n",
      "---  ------          --------------  -----  \n",
      " 0   city            82771 non-null  object \n",
      " 1   state           82890 non-null  object \n",
      " 2   date_time       81831 non-null  float64\n",
      " 3   shape           82890 non-null  object \n",
      " 4   duration        80046 non-null  object \n",
      " 5   text            82838 non-null  object \n",
      " 6   city_latitude   72013 non-null  float64\n",
      " 7   city_longitude  72013 non-null  float64\n",
      "dtypes: float64(3), object(5)\n",
      "memory usage: 5.7+ MB\n"
     ]
    }
   ],
   "source": [
    "#by year\n",
    "#plt.figure(figsize=(16,9))\n",
    "#plt.title('MOST SIGHTINGS BY Year')\n",
    "\n",
    "\n",
    "yearufo = new_ufo #make new data frame that is just by years\n",
    "#convert to int\n",
    "\n",
    "yearufo.dropna(subset=['date_time'])\n",
    "#yearufo['date_time'] = yearufo['date_time'].dt.year\n",
    "\n",
    "#yearufo['date_time'] = yearufo['date_time'].astype(int)\n",
    "#yearufo['date_time'] = yearufo['date_time'].apply(np.int64)\n",
    "yearufo.info()\n",
    "#sn.barplot(data = yearufo, x = 'date_time',)"
   ]
  },
  {
   "cell_type": "code",
   "execution_count": 17,
   "id": "7196e7da",
   "metadata": {
    "scrolled": true
   },
   "outputs": [
    {
     "data": {
      "image/png": "[encoded data removed]",
      "text/plain": [
       "<Figure size 1440x648 with 1 Axes>"
      ]
     },
     "metadata": {
      "needs_background": "light"
     },
     "output_type": "display_data"
    }
   ],
   "source": [
    "plt.figure(figsize=(20,9))\n",
    "plt.title('MOST SIGHTINGS BY Year')\n",
    "sn.countplot(x = 'date_time',\n",
    "              data = yearufo)\n",
    "plt.show()\n",
    "#we see that a lot of the years don't matter"
   ]
  },
  {
   "cell_type": "code",
   "execution_count": 18,
   "id": "6d16699c",
   "metadata": {
    "scrolled": true
   },
   "outputs": [
    {
     "data": {
      "image/png": "[encoded data removed]",
      "text/plain": [
       "<Figure size 1440x648 with 1 Axes>"
      ]
     },
     "metadata": {
      "needs_background": "light"
     },
     "output_type": "display_data"
    }
   ],
   "source": [
    "plt.figure(figsize=(20,9))\n",
    "plt.title('MOST SIGHTINGS BY Year')\n",
    "yearufo = yearufo[(yearufo['date_time']>2003)]\n",
    "sn.countplot(x = 'date_time',\n",
    "              data = yearufo)\n",
    "plt.show()\n",
    "#after 2004"
   ]
  },
  {
   "cell_type": "code",
   "execution_count": null,
   "id": "9675dd93",
   "metadata": {},
   "outputs": [],
   "source": []
  }
 ],
 "metadata": {
  "kernelspec": {
   "display_name": "Python 3 (ipykernel)",
   "language": "python",
   "name": "python3"
  },
  "language_info": {
   "codemirror_mode": {
    "name": "ipython",
    "version": 3
   },
   "file_extension": ".py",
   "mimetype": "text/x-python",
   "name": "python",
   "nbconvert_exporter": "python",
   "pygments_lexer": "ipython3",
   "version": "3.9.12"
  }
 },
 "nbformat": 4,
 "nbformat_minor": 5
}
